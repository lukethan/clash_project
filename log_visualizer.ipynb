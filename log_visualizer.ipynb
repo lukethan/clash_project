{
 "cells": [
  {
   "cell_type": "code",
   "execution_count": 36,
   "metadata": {},
   "outputs": [],
   "source": [
    "import pandas as pd\n",
    "import seaborn as sns\n",
    "import matplotlib.pyplot as plt\n",
    "import matplotlib.dates as mdates\n",
    "import re"
   ]
  },
  {
   "cell_type": "code",
   "execution_count": 37,
   "metadata": {},
   "outputs": [],
   "source": [
    "with open('data_to_file.log', \"r\") as file:\n",
    "    log_lines = file.readlines()"
   ]
  },
  {
   "cell_type": "markdown",
   "metadata": {},
   "source": [
    "Read log file and store as a log_lines"
   ]
  },
  {
   "cell_type": "code",
   "execution_count": 38,
   "metadata": {},
   "outputs": [],
   "source": [
    "log_entries = []\n",
    "log_pattern = r'^(?P<timestamp>.*?) - (?P<level>\\w+) - (?P<message>.*)$'\n",
    "\n",
    "for line in log_lines:\n",
    "    match = re.match(log_pattern, line.strip())\n",
    "    if match:\n",
    "        log_entries.append(match.groupdict())"
   ]
  },
  {
   "cell_type": "markdown",
   "metadata": {},
   "source": [
    "Initialize empty list for log entries and use regex to parse log entries into timestamp, level, and message"
   ]
  },
  {
   "cell_type": "code",
   "execution_count": 39,
   "metadata": {},
   "outputs": [
    {
     "data": {
      "text/html": [
       "<div>\n",
       "<style scoped>\n",
       "    .dataframe tbody tr th:only-of-type {\n",
       "        vertical-align: middle;\n",
       "    }\n",
       "\n",
       "    .dataframe tbody tr th {\n",
       "        vertical-align: top;\n",
       "    }\n",
       "\n",
       "    .dataframe thead th {\n",
       "        text-align: right;\n",
       "    }\n",
       "</style>\n",
       "<table border=\"1\" class=\"dataframe\">\n",
       "  <thead>\n",
       "    <tr style=\"text-align: right;\">\n",
       "      <th></th>\n",
       "      <th>timestamp</th>\n",
       "      <th>level</th>\n",
       "      <th>message</th>\n",
       "    </tr>\n",
       "  </thead>\n",
       "  <tbody>\n",
       "    <tr>\n",
       "      <th>0</th>\n",
       "      <td>2024-09-23 18:42:02.010</td>\n",
       "      <td>INFO</td>\n",
       "      <td>API response status code: 200</td>\n",
       "    </tr>\n",
       "    <tr>\n",
       "      <th>1</th>\n",
       "      <td>2024-09-23 18:42:02.011</td>\n",
       "      <td>INFO</td>\n",
       "      <td>API response content: {\"state\":\"inWar\",\"teamSi...</td>\n",
       "    </tr>\n",
       "    <tr>\n",
       "      <th>2</th>\n",
       "      <td>2024-09-23 18:42:02.014</td>\n",
       "      <td>INFO</td>\n",
       "      <td>Response recorded for inWar at 2024-09-23 18:4...</td>\n",
       "    </tr>\n",
       "    <tr>\n",
       "      <th>3</th>\n",
       "      <td>2024-09-23 18:56:01.469</td>\n",
       "      <td>INFO</td>\n",
       "      <td>API response status code: 200</td>\n",
       "    </tr>\n",
       "    <tr>\n",
       "      <th>4</th>\n",
       "      <td>2024-09-23 18:56:01.469</td>\n",
       "      <td>INFO</td>\n",
       "      <td>API response content: {\"state\":\"inWar\",\"teamSi...</td>\n",
       "    </tr>\n",
       "    <tr>\n",
       "      <th>5</th>\n",
       "      <td>2024-09-23 18:56:01.470</td>\n",
       "      <td>INFO</td>\n",
       "      <td>Response recorded for inWar at 2024-09-23 18:5...</td>\n",
       "    </tr>\n",
       "    <tr>\n",
       "      <th>6</th>\n",
       "      <td>2024-09-23 19:11:01.840</td>\n",
       "      <td>INFO</td>\n",
       "      <td>API response status code: 200</td>\n",
       "    </tr>\n",
       "    <tr>\n",
       "      <th>7</th>\n",
       "      <td>2024-09-23 19:11:01.840</td>\n",
       "      <td>INFO</td>\n",
       "      <td>API response content: {\"state\":\"inWar\",\"teamSi...</td>\n",
       "    </tr>\n",
       "    <tr>\n",
       "      <th>8</th>\n",
       "      <td>2024-09-23 19:11:01.841</td>\n",
       "      <td>INFO</td>\n",
       "      <td>Response recorded for inWar at 2024-09-23 19:1...</td>\n",
       "    </tr>\n",
       "    <tr>\n",
       "      <th>9</th>\n",
       "      <td>2024-09-24 17:02:00.843</td>\n",
       "      <td>INFO</td>\n",
       "      <td>API response status code: 200</td>\n",
       "    </tr>\n",
       "    <tr>\n",
       "      <th>10</th>\n",
       "      <td>2024-09-24 17:02:00.846</td>\n",
       "      <td>INFO</td>\n",
       "      <td>/home/lukethan/projects/clash_project/war20240...</td>\n",
       "    </tr>\n",
       "    <tr>\n",
       "      <th>11</th>\n",
       "      <td>2024-09-25 17:02:16.787</td>\n",
       "      <td>INFO</td>\n",
       "      <td>API response status code: 200</td>\n",
       "    </tr>\n",
       "    <tr>\n",
       "      <th>12</th>\n",
       "      <td>2024-09-26 17:02:01.840</td>\n",
       "      <td>INFO</td>\n",
       "      <td>API response status code: 200</td>\n",
       "    </tr>\n",
       "    <tr>\n",
       "      <th>13</th>\n",
       "      <td>2024-09-26 17:02:01.848</td>\n",
       "      <td>INFO</td>\n",
       "      <td>Response recorded for inWar at 2024-09-26 17:0...</td>\n",
       "    </tr>\n",
       "    <tr>\n",
       "      <th>14</th>\n",
       "      <td>2024-09-27 14:31:52.642</td>\n",
       "      <td>INFO</td>\n",
       "      <td>API response status code: 200</td>\n",
       "    </tr>\n",
       "    <tr>\n",
       "      <th>15</th>\n",
       "      <td>2024-09-27 14:31:52.655</td>\n",
       "      <td>INFO</td>\n",
       "      <td>Response recorded for inWar at 2024-09-27 14:3...</td>\n",
       "    </tr>\n",
       "    <tr>\n",
       "      <th>16</th>\n",
       "      <td>2024-09-27 14:35:05.263</td>\n",
       "      <td>INFO</td>\n",
       "      <td>API response status code: 200</td>\n",
       "    </tr>\n",
       "    <tr>\n",
       "      <th>17</th>\n",
       "      <td>2024-09-27 14:35:05.276</td>\n",
       "      <td>INFO</td>\n",
       "      <td>Response recorded for inWar at 2024-09-27 14:3...</td>\n",
       "    </tr>\n",
       "  </tbody>\n",
       "</table>\n",
       "</div>"
      ],
      "text/plain": [
       "                 timestamp level  \\\n",
       "0  2024-09-23 18:42:02.010  INFO   \n",
       "1  2024-09-23 18:42:02.011  INFO   \n",
       "2  2024-09-23 18:42:02.014  INFO   \n",
       "3  2024-09-23 18:56:01.469  INFO   \n",
       "4  2024-09-23 18:56:01.469  INFO   \n",
       "5  2024-09-23 18:56:01.470  INFO   \n",
       "6  2024-09-23 19:11:01.840  INFO   \n",
       "7  2024-09-23 19:11:01.840  INFO   \n",
       "8  2024-09-23 19:11:01.841  INFO   \n",
       "9  2024-09-24 17:02:00.843  INFO   \n",
       "10 2024-09-24 17:02:00.846  INFO   \n",
       "11 2024-09-25 17:02:16.787  INFO   \n",
       "12 2024-09-26 17:02:01.840  INFO   \n",
       "13 2024-09-26 17:02:01.848  INFO   \n",
       "14 2024-09-27 14:31:52.642  INFO   \n",
       "15 2024-09-27 14:31:52.655  INFO   \n",
       "16 2024-09-27 14:35:05.263  INFO   \n",
       "17 2024-09-27 14:35:05.276  INFO   \n",
       "\n",
       "                                              message  \n",
       "0                       API response status code: 200  \n",
       "1   API response content: {\"state\":\"inWar\",\"teamSi...  \n",
       "2   Response recorded for inWar at 2024-09-23 18:4...  \n",
       "3                       API response status code: 200  \n",
       "4   API response content: {\"state\":\"inWar\",\"teamSi...  \n",
       "5   Response recorded for inWar at 2024-09-23 18:5...  \n",
       "6                       API response status code: 200  \n",
       "7   API response content: {\"state\":\"inWar\",\"teamSi...  \n",
       "8   Response recorded for inWar at 2024-09-23 19:1...  \n",
       "9                       API response status code: 200  \n",
       "10  /home/lukethan/projects/clash_project/war20240...  \n",
       "11                      API response status code: 200  \n",
       "12                      API response status code: 200  \n",
       "13  Response recorded for inWar at 2024-09-26 17:0...  \n",
       "14                      API response status code: 200  \n",
       "15  Response recorded for inWar at 2024-09-27 14:3...  \n",
       "16                      API response status code: 200  \n",
       "17  Response recorded for inWar at 2024-09-27 14:3...  "
      ]
     },
     "execution_count": 39,
     "metadata": {},
     "output_type": "execute_result"
    }
   ],
   "source": [
    "log_df = pd.DataFrame(log_entries)\n",
    "timestamp_format = '%Y-%m-%d %H:%M:%S,%f'\n",
    "log_df['timestamp'] = pd.to_datetime(log_df['timestamp'], format=timestamp_format)\n",
    "\n",
    "\n",
    "log_df\n"
   ]
  },
  {
   "cell_type": "markdown",
   "metadata": {},
   "source": [
    "Create dataframe for analysis and convert timestamp into datetime object"
   ]
  },
  {
   "cell_type": "code",
   "execution_count": 40,
   "metadata": {},
   "outputs": [
    {
     "data": {
      "text/html": [
       "<div>\n",
       "<style scoped>\n",
       "    .dataframe tbody tr th:only-of-type {\n",
       "        vertical-align: middle;\n",
       "    }\n",
       "\n",
       "    .dataframe tbody tr th {\n",
       "        vertical-align: top;\n",
       "    }\n",
       "\n",
       "    .dataframe thead th {\n",
       "        text-align: right;\n",
       "    }\n",
       "</style>\n",
       "<table border=\"1\" class=\"dataframe\">\n",
       "  <thead>\n",
       "    <tr style=\"text-align: right;\">\n",
       "      <th></th>\n",
       "      <th>timestamp</th>\n",
       "    </tr>\n",
       "  </thead>\n",
       "  <tbody>\n",
       "    <tr>\n",
       "      <th>count</th>\n",
       "      <td>18</td>\n",
       "    </tr>\n",
       "    <tr>\n",
       "      <th>mean</th>\n",
       "      <td>2024-09-25 04:06:11.886888960</td>\n",
       "    </tr>\n",
       "    <tr>\n",
       "      <th>min</th>\n",
       "      <td>2024-09-23 18:42:02.010000</td>\n",
       "    </tr>\n",
       "    <tr>\n",
       "      <th>25%</th>\n",
       "      <td>2024-09-23 18:56:01.469250048</td>\n",
       "    </tr>\n",
       "    <tr>\n",
       "      <th>50%</th>\n",
       "      <td>2024-09-24 06:06:31.342000128</td>\n",
       "    </tr>\n",
       "    <tr>\n",
       "      <th>75%</th>\n",
       "      <td>2024-09-26 17:02:01.846000128</td>\n",
       "    </tr>\n",
       "    <tr>\n",
       "      <th>max</th>\n",
       "      <td>2024-09-27 14:35:05.276000</td>\n",
       "    </tr>\n",
       "  </tbody>\n",
       "</table>\n",
       "</div>"
      ],
      "text/plain": [
       "                           timestamp\n",
       "count                             18\n",
       "mean   2024-09-25 04:06:11.886888960\n",
       "min       2024-09-23 18:42:02.010000\n",
       "25%    2024-09-23 18:56:01.469250048\n",
       "50%    2024-09-24 06:06:31.342000128\n",
       "75%    2024-09-26 17:02:01.846000128\n",
       "max       2024-09-27 14:35:05.276000"
      ]
     },
     "execution_count": 40,
     "metadata": {},
     "output_type": "execute_result"
    }
   ],
   "source": [
    "log_df.describe()"
   ]
  },
  {
   "cell_type": "markdown",
   "metadata": {},
   "source": [
    "Look at preliminary data, this makes sense because there are only 18 entries over a 4 day period"
   ]
  },
  {
   "cell_type": "code",
   "execution_count": 41,
   "metadata": {},
   "outputs": [
    {
     "data": {
      "text/plain": [
       "level\n",
       "INFO    18\n",
       "Name: count, dtype: int64"
      ]
     },
     "execution_count": 41,
     "metadata": {},
     "output_type": "execute_result"
    }
   ],
   "source": [
    "level_counts = log_df['level'].value_counts()\n",
    "level_counts"
   ]
  },
  {
   "cell_type": "markdown",
   "metadata": {},
   "source": [
    "I have set up logging to capture errors as well, but none have occurred since I set the CRON task"
   ]
  },
  {
   "cell_type": "code",
   "execution_count": 42,
   "metadata": {},
   "outputs": [
    {
     "data": {
      "image/png": "[encoded data removed]",
      "text/plain": [
       "<Figure size 640x480 with 1 Axes>"
      ]
     },
     "metadata": {},
     "output_type": "display_data"
    }
   ],
   "source": [
    "log_df.set_index('timestamp', inplace=True)\n",
    "sns.histplot(log_df.index, bins=10, kde=True)\n",
    "plt.title('Distribution of Log Timestamps')\n",
    "plt.xlabel('Timestamp')\n",
    "plt.ylabel('Frequency')\n",
    "plt.xticks(rotation=45)\n",
    "plt.gca().xaxis.set_major_formatter(mdates.DateFormatter('%Y-%m-%d %H:%M'))\n",
    "plt.grid(axis='y', linestyle='--', alpha=0.7)\n",
    "plt.show()\n"
   ]
  },
  {
   "cell_type": "markdown",
   "metadata": {},
   "source": [
    "This distribution makes sense because I was setting up the CRON task on 9/24 and had to switch from relative to absolute file paths.\n",
    "I re-ran the task every few minutes with each change that I made.\n",
    "Additionally, I made edits to the script on 9/27 and re-ran it to test the changes that I made."
   ]
  },
  {
   "cell_type": "code",
   "execution_count": 43,
   "metadata": {},
   "outputs": [
    {
     "data": {
      "image/png": "[encoded data removed]",
      "text/plain": [
       "<Figure size 640x480 with 1 Axes>"
      ]
     },
     "metadata": {},
     "output_type": "display_data"
    }
   ],
   "source": [
    "hourly_counts = log_df.resample('h').size().reset_index(name='count')\n",
    "\n",
    "sns.lineplot(data=hourly_counts, x='timestamp', y='count')\n",
    "plt.title('Log Entries per Hour')\n",
    "plt.xlabel('Timestamp')\n",
    "plt.ylabel('Number of Entries')\n",
    "plt.xticks(rotation=45)  # Rotate x labels for better visibility\n",
    "plt.show()"
   ]
  },
  {
   "cell_type": "markdown",
   "metadata": {},
   "source": [
    "The entries per hour makes sense because I have a cron task scheduled at 17:02,\n",
    "the additional spikes on certain days are from manually running the program\n",
    "to get intrawar results and to test changes to the program."
   ]
  },
  {
   "cell_type": "code",
   "execution_count": 44,
   "metadata": {},
   "outputs": [
    {
     "data": {
      "image/png": "[encoded data removed]",
      "text/plain": [
       "<Figure size 640x480 with 1 Axes>"
      ]
     },
     "metadata": {},
     "output_type": "display_data"
    }
   ],
   "source": [
    "sns.countplot(data=log_df, x='level')\n",
    "plt.title('Log Level Counts')\n",
    "plt.xlabel('Log Level')\n",
    "plt.ylabel('Count')\n",
    "ticks = [x for x in range(0, 23, 2)]\n",
    "labels = [str(x) for x in ticks]\n",
    "plt.yticks(ticks=ticks, labels=labels)\n",
    "plt.show()\n"
   ]
  },
  {
   "cell_type": "markdown",
   "metadata": {},
   "source": [
    "Thankfully there haven't been errors in the few days that I have been runnning the program, but they would display\n",
    "here if they occur in the future."
   ]
  }
 ],
 "metadata": {
  "kernelspec": {
   "display_name": ".venv",
   "language": "python",
   "name": "python3"
  },
  "language_info": {
   "codemirror_mode": {
    "name": "ipython",
    "version": 3
   },
   "file_extension": ".py",
   "mimetype": "text/x-python",
   "name": "python",
   "nbconvert_exporter": "python",
   "pygments_lexer": "ipython3",
   "version": "3.10.12"
  }
 },
 "nbformat": 4,
 "nbformat_minor": 2
}
